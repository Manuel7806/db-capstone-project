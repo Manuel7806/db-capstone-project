{
 "cells": [
  {
   "cell_type": "code",
   "execution_count": 39,
   "id": "181c5aa0",
   "metadata": {},
   "outputs": [],
   "source": [
    "import mysql.connector as connector\n",
    "\n",
    "connection = connector.connect(user='admin', password='adminpassword123', db='little_lemon_db', auth_plugin='mysql_native_password')\n",
    "\n",
    "cursor = connection.cursor()"
   ]
  },
  {
   "cell_type": "code",
   "execution_count": 40,
   "id": "0079871d",
   "metadata": {},
   "outputs": [
    {
     "name": "stdout",
     "output_type": "stream",
     "text": [
      "('addresses',)\n",
      "('bookings',)\n",
      "('customers',)\n",
      "('deliveries',)\n",
      "('employees',)\n",
      "('item_types',)\n",
      "('items',)\n",
      "('menu',)\n",
      "('orders',)\n",
      "('ordersview',)\n",
      "('roles',)\n",
      "('tables',)\n"
     ]
    }
   ],
   "source": [
    "SHOW_TABLES = \"\"\"SHOW TABLES\"\"\"\n",
    "\n",
    "cursor.execute(SHOW_TABLES)\n",
    "\n",
    "for table in cursor:\n",
    "    print(table)"
   ]
  },
  {
   "cell_type": "code",
   "execution_count": 41,
   "id": "b52af8b9",
   "metadata": {},
   "outputs": [
    {
     "name": "stdout",
     "output_type": "stream",
     "text": [
      "('John Doe', '1111111111')\n",
      "('Jimmy John', '4444444444')\n",
      "('Jane Doe', '2222222222')\n",
      "('Billy Jean', '3333333333')\n"
     ]
    }
   ],
   "source": [
    "JOIN_STATEMENT = \"\"\"SELECT name, contact_number FROM customers INNER JOIN orders\n",
    "ON customers.id = orders.customers_id WHERE orders.cost >= 60\"\"\"\n",
    "\n",
    "cursor.execute(JOIN_STATEMENT)\n",
    "\n",
    "for customer in cursor:\n",
    "    print(customer)"
   ]
  }
 ],
 "metadata": {
  "kernelspec": {
   "display_name": "Python 3 (ipykernel)",
   "language": "python",
   "name": "python3"
  },
  "language_info": {
   "codemirror_mode": {
    "name": "ipython",
    "version": 3
   },
   "file_extension": ".py",
   "mimetype": "text/x-python",
   "name": "python",
   "nbconvert_exporter": "python",
   "pygments_lexer": "ipython3",
   "version": "3.11.1"
  }
 },
 "nbformat": 4,
 "nbformat_minor": 5
}
